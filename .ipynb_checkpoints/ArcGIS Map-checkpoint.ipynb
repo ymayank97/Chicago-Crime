{
 "cells": [
  {
   "cell_type": "code",
   "execution_count": null,
   "id": "64ad6c6c",
   "metadata": {},
   "outputs": [],
   "source": []
  },
  {
   "cell_type": "code",
   "execution_count": 18,
   "id": "2ffa390b",
   "metadata": {},
   "outputs": [],
   "source": [
    "import requests\n",
    "import pandas as pd\n",
    "import io"
   ]
  },
  {
   "cell_type": "code",
   "execution_count": 19,
   "id": "31c29b2f",
   "metadata": {},
   "outputs": [],
   "source": [
    "url = 'https://data.cityofchicago.org/resource/ijzp-q8t2.json'"
   ]
  },
  {
   "cell_type": "code",
   "execution_count": 20,
   "id": "17e0192c",
   "metadata": {},
   "outputs": [],
   "source": [
    "try:\n",
    "    response = requests.get(url)    \n",
    "except Exception as e:\n",
    "    print(f\"Error: {e}\")"
   ]
  },
  {
   "cell_type": "code",
   "execution_count": 21,
   "id": "bad3aef5",
   "metadata": {},
   "outputs": [],
   "source": [
    "if response.status_code == 200:\n",
    "    json_data = response.json()\n",
    "    # Now you can work with the JSON data\n",
    "else:\n",
    "    print(f\"Error fetching data. Status code: {response.status_code}\")"
   ]
  },
  {
   "cell_type": "code",
   "execution_count": 23,
   "id": "edec5ba9",
   "metadata": {},
   "outputs": [
    {
     "data": {
      "text/html": [
       "<div>\n",
       "<style scoped>\n",
       "    .dataframe tbody tr th:only-of-type {\n",
       "        vertical-align: middle;\n",
       "    }\n",
       "\n",
       "    .dataframe tbody tr th {\n",
       "        vertical-align: top;\n",
       "    }\n",
       "\n",
       "    .dataframe thead th {\n",
       "        text-align: right;\n",
       "    }\n",
       "</style>\n",
       "<table border=\"1\" class=\"dataframe\">\n",
       "  <thead>\n",
       "    <tr style=\"text-align: right;\">\n",
       "      <th></th>\n",
       "      <th>id</th>\n",
       "      <th>case_number</th>\n",
       "      <th>date</th>\n",
       "      <th>block</th>\n",
       "      <th>iucr</th>\n",
       "      <th>primary_type</th>\n",
       "      <th>description</th>\n",
       "      <th>location_description</th>\n",
       "      <th>arrest</th>\n",
       "      <th>domestic</th>\n",
       "      <th>...</th>\n",
       "      <th>:@computed_region_vrxf_vc4k</th>\n",
       "      <th>:@computed_region_bdys_3d7i</th>\n",
       "      <th>:@computed_region_43wa_7qmu</th>\n",
       "      <th>:@computed_region_rpca_8um6</th>\n",
       "      <th>:@computed_region_d9mm_jgwp</th>\n",
       "      <th>:@computed_region_d3ds_rm58</th>\n",
       "      <th>:@computed_region_8hcu_yrd4</th>\n",
       "      <th>location.latitude</th>\n",
       "      <th>location.longitude</th>\n",
       "      <th>location.human_address</th>\n",
       "    </tr>\n",
       "  </thead>\n",
       "  <tbody>\n",
       "    <tr>\n",
       "      <th>0</th>\n",
       "      <td>13383320</td>\n",
       "      <td>JH169690</td>\n",
       "      <td>2024-02-29T00:00:00.000</td>\n",
       "      <td>011XX S STATE ST</td>\n",
       "      <td>1350</td>\n",
       "      <td>CRIMINAL TRESPASS</td>\n",
       "      <td>TO STATE SUP LAND</td>\n",
       "      <td>CTA TRAIN</td>\n",
       "      <td>True</td>\n",
       "      <td>False</td>\n",
       "      <td>...</td>\n",
       "      <td>38</td>\n",
       "      <td>12</td>\n",
       "      <td>10</td>\n",
       "      <td>35</td>\n",
       "      <td>22</td>\n",
       "      <td>144</td>\n",
       "      <td>9</td>\n",
       "      <td>41.868165405</td>\n",
       "      <td>-87.62743954</td>\n",
       "      <td>{\"address\": \"\", \"city\": \"\", \"state\": \"\", \"zip\"...</td>\n",
       "    </tr>\n",
       "    <tr>\n",
       "      <th>1</th>\n",
       "      <td>13383971</td>\n",
       "      <td>JH170493</td>\n",
       "      <td>2024-02-29T00:00:00.000</td>\n",
       "      <td>035XX S RHODES AVE</td>\n",
       "      <td>1320</td>\n",
       "      <td>CRIMINAL DAMAGE</td>\n",
       "      <td>TO VEHICLE</td>\n",
       "      <td>STREET</td>\n",
       "      <td>False</td>\n",
       "      <td>False</td>\n",
       "      <td>...</td>\n",
       "      <td>1</td>\n",
       "      <td>561</td>\n",
       "      <td>10</td>\n",
       "      <td>36</td>\n",
       "      <td>24</td>\n",
       "      <td>101</td>\n",
       "      <td>9</td>\n",
       "      <td>41.830859172</td>\n",
       "      <td>-87.614478749</td>\n",
       "      <td>{\"address\": \"\", \"city\": \"\", \"state\": \"\", \"zip\"...</td>\n",
       "    </tr>\n",
       "    <tr>\n",
       "      <th>2</th>\n",
       "      <td>13384053</td>\n",
       "      <td>JH170444</td>\n",
       "      <td>2024-02-29T00:00:00.000</td>\n",
       "      <td>025XX W 115TH PL</td>\n",
       "      <td>2825</td>\n",
       "      <td>OTHER OFFENSE</td>\n",
       "      <td>HARASSMENT BY TELEPHONE</td>\n",
       "      <td>RESIDENCE</td>\n",
       "      <td>False</td>\n",
       "      <td>True</td>\n",
       "      <td>...</td>\n",
       "      <td>74</td>\n",
       "      <td>379</td>\n",
       "      <td>42</td>\n",
       "      <td>33</td>\n",
       "      <td>9</td>\n",
       "      <td>257</td>\n",
       "      <td>19</td>\n",
       "      <td>41.683578042</td>\n",
       "      <td>-87.685066062</td>\n",
       "      <td>{\"address\": \"\", \"city\": \"\", \"state\": \"\", \"zip\"...</td>\n",
       "    </tr>\n",
       "    <tr>\n",
       "      <th>3</th>\n",
       "      <td>13384677</td>\n",
       "      <td>JH171112</td>\n",
       "      <td>2024-02-29T00:00:00.000</td>\n",
       "      <td>017XX W NORTH SHORE AVE</td>\n",
       "      <td>0910</td>\n",
       "      <td>MOTOR VEHICLE THEFT</td>\n",
       "      <td>AUTOMOBILE</td>\n",
       "      <td>STREET</td>\n",
       "      <td>False</td>\n",
       "      <td>False</td>\n",
       "      <td>...</td>\n",
       "      <td>10</td>\n",
       "      <td>242</td>\n",
       "      <td>5</td>\n",
       "      <td>9</td>\n",
       "      <td>11</td>\n",
       "      <td>41</td>\n",
       "      <td>49</td>\n",
       "      <td>42.003500665</td>\n",
       "      <td>-87.673351733</td>\n",
       "      <td>{\"address\": \"\", \"city\": \"\", \"state\": \"\", \"zip\"...</td>\n",
       "    </tr>\n",
       "    <tr>\n",
       "      <th>4</th>\n",
       "      <td>13388106</td>\n",
       "      <td>JH175477</td>\n",
       "      <td>2024-02-29T00:00:00.000</td>\n",
       "      <td>079XX S ELLIS AVE</td>\n",
       "      <td>1750</td>\n",
       "      <td>OFFENSE INVOLVING CHILDREN</td>\n",
       "      <td>CHILD ABUSE</td>\n",
       "      <td>APARTMENT</td>\n",
       "      <td>False</td>\n",
       "      <td>True</td>\n",
       "      <td>...</td>\n",
       "      <td>40</td>\n",
       "      <td>247</td>\n",
       "      <td>35</td>\n",
       "      <td>61</td>\n",
       "      <td>20</td>\n",
       "      <td>227</td>\n",
       "      <td>10</td>\n",
       "      <td>41.750378603</td>\n",
       "      <td>-87.600311872</td>\n",
       "      <td>{\"address\": \"\", \"city\": \"\", \"state\": \"\", \"zip\"...</td>\n",
       "    </tr>\n",
       "  </tbody>\n",
       "</table>\n",
       "<p>5 rows × 33 columns</p>\n",
       "</div>"
      ],
      "text/plain": [
       "         id case_number                     date                    block  \\\n",
       "0  13383320    JH169690  2024-02-29T00:00:00.000         011XX S STATE ST   \n",
       "1  13383971    JH170493  2024-02-29T00:00:00.000       035XX S RHODES AVE   \n",
       "2  13384053    JH170444  2024-02-29T00:00:00.000         025XX W 115TH PL   \n",
       "3  13384677    JH171112  2024-02-29T00:00:00.000  017XX W NORTH SHORE AVE   \n",
       "4  13388106    JH175477  2024-02-29T00:00:00.000        079XX S ELLIS AVE   \n",
       "\n",
       "   iucr                primary_type              description  \\\n",
       "0  1350           CRIMINAL TRESPASS        TO STATE SUP LAND   \n",
       "1  1320             CRIMINAL DAMAGE               TO VEHICLE   \n",
       "2  2825               OTHER OFFENSE  HARASSMENT BY TELEPHONE   \n",
       "3  0910         MOTOR VEHICLE THEFT               AUTOMOBILE   \n",
       "4  1750  OFFENSE INVOLVING CHILDREN              CHILD ABUSE   \n",
       "\n",
       "  location_description  arrest  domestic  ... :@computed_region_vrxf_vc4k  \\\n",
       "0            CTA TRAIN    True     False  ...                          38   \n",
       "1               STREET   False     False  ...                           1   \n",
       "2            RESIDENCE   False      True  ...                          74   \n",
       "3               STREET   False     False  ...                          10   \n",
       "4            APARTMENT   False      True  ...                          40   \n",
       "\n",
       "  :@computed_region_bdys_3d7i :@computed_region_43wa_7qmu  \\\n",
       "0                          12                          10   \n",
       "1                         561                          10   \n",
       "2                         379                          42   \n",
       "3                         242                           5   \n",
       "4                         247                          35   \n",
       "\n",
       "  :@computed_region_rpca_8um6 :@computed_region_d9mm_jgwp  \\\n",
       "0                          35                          22   \n",
       "1                          36                          24   \n",
       "2                          33                           9   \n",
       "3                           9                          11   \n",
       "4                          61                          20   \n",
       "\n",
       "  :@computed_region_d3ds_rm58 :@computed_region_8hcu_yrd4 location.latitude  \\\n",
       "0                         144                           9      41.868165405   \n",
       "1                         101                           9      41.830859172   \n",
       "2                         257                          19      41.683578042   \n",
       "3                          41                          49      42.003500665   \n",
       "4                         227                          10      41.750378603   \n",
       "\n",
       "  location.longitude                             location.human_address  \n",
       "0       -87.62743954  {\"address\": \"\", \"city\": \"\", \"state\": \"\", \"zip\"...  \n",
       "1      -87.614478749  {\"address\": \"\", \"city\": \"\", \"state\": \"\", \"zip\"...  \n",
       "2      -87.685066062  {\"address\": \"\", \"city\": \"\", \"state\": \"\", \"zip\"...  \n",
       "3      -87.673351733  {\"address\": \"\", \"city\": \"\", \"state\": \"\", \"zip\"...  \n",
       "4      -87.600311872  {\"address\": \"\", \"city\": \"\", \"state\": \"\", \"zip\"...  \n",
       "\n",
       "[5 rows x 33 columns]"
      ]
     },
     "execution_count": 23,
     "metadata": {},
     "output_type": "execute_result"
    }
   ],
   "source": [
    "df_nested = pd.DataFrame.from_dict(pd.json_normalize(json_data), orient=\"columns\")\n",
    "df_nested.head()"
   ]
  },
  {
   "cell_type": "code",
   "execution_count": 25,
   "id": "748922b0",
   "metadata": {},
   "outputs": [],
   "source": [
    "df_nested[:10000].to_csv('chicago_crime.csv',index = False)"
   ]
  },
  {
   "cell_type": "code",
   "execution_count": 40,
   "id": "a7fba3f1",
   "metadata": {},
   "outputs": [
    {
     "name": "stdout",
     "output_type": "stream",
     "text": [
      "         id case_number                     date                    block  \\\n",
      "0  13383320    JH169690  2024-02-29T00:00:00.000         011XX S STATE ST   \n",
      "1  13383971    JH170493  2024-02-29T00:00:00.000       035XX S RHODES AVE   \n",
      "2  13384053    JH170444  2024-02-29T00:00:00.000         025XX W 115TH PL   \n",
      "3  13384677    JH171112  2024-02-29T00:00:00.000  017XX W NORTH SHORE AVE   \n",
      "4  13388106    JH175477  2024-02-29T00:00:00.000        079XX S ELLIS AVE   \n",
      "5  13384048    JH170672  2024-02-29T00:00:00.000         011XX W LUNT AVE   \n",
      "6  13383976    JH170500  2024-02-29T00:00:00.000       019XX W WOLFRAM ST   \n",
      "7  13383499    JH169801  2024-02-29T00:00:00.000        069XX S DAMEN AVE   \n",
      "8  13384023    JH170649  2024-02-29T00:00:00.000     100XX W BALMORAL AVE   \n",
      "9  13389327    JH176883  2024-02-29T00:00:00.000      011XX N DEARBORN ST   \n",
      "\n",
      "   iucr                primary_type                     description  \\\n",
      "0  1350           CRIMINAL TRESPASS               TO STATE SUP LAND   \n",
      "1  1320             CRIMINAL DAMAGE                      TO VEHICLE   \n",
      "2  2825               OTHER OFFENSE         HARASSMENT BY TELEPHONE   \n",
      "3  0910         MOTOR VEHICLE THEFT                      AUTOMOBILE   \n",
      "4  1750  OFFENSE INVOLVING CHILDREN                     CHILD ABUSE   \n",
      "5  2826               OTHER OFFENSE  HARASSMENT BY ELECTRONIC MEANS   \n",
      "6  0820                       THEFT                  $500 AND UNDER   \n",
      "7  0920         MOTOR VEHICLE THEFT            ATTEMPT - AUTOMOBILE   \n",
      "8  0810                       THEFT                       OVER $500   \n",
      "9  0890                       THEFT                   FROM BUILDING   \n",
      "\n",
      "                             location_description  arrest  domestic  ...  \\\n",
      "0                                       CTA TRAIN    True     False  ...   \n",
      "1                                          STREET   False     False  ...   \n",
      "2                                       RESIDENCE   False      True  ...   \n",
      "3                                          STREET   False     False  ...   \n",
      "4                                       APARTMENT   False      True  ...   \n",
      "5                                       APARTMENT   False     False  ...   \n",
      "6                                          STREET   False     False  ...   \n",
      "7          PARKING LOT / GARAGE (NON RESIDENTIAL)   False     False  ...   \n",
      "8  AIRPORT TERMINAL LOWER LEVEL - NON-SECURE AREA   False     False  ...   \n",
      "9                                       APARTMENT   False     False  ...   \n",
      "\n",
      "  :@computed_region_vrxf_vc4k :@computed_region_bdys_3d7i  \\\n",
      "0                          38                          12   \n",
      "1                           1                         561   \n",
      "2                          74                         379   \n",
      "3                          10                         242   \n",
      "4                          40                         247   \n",
      "5                          10                         267   \n",
      "6                          46                         649   \n",
      "7                          65                         283   \n",
      "8                          75                         NaN   \n",
      "9                          37                         230   \n",
      "\n",
      "  :@computed_region_43wa_7qmu :@computed_region_rpca_8um6  \\\n",
      "0                          10                          35   \n",
      "1                          10                          36   \n",
      "2                          42                          33   \n",
      "3                           5                           9   \n",
      "4                          35                          61   \n",
      "5                           5                           9   \n",
      "6                          40                          22   \n",
      "7                          31                          23   \n",
      "8                          29                          38   \n",
      "9                          11                          54   \n",
      "\n",
      "  :@computed_region_d9mm_jgwp :@computed_region_d3ds_rm58  \\\n",
      "0                          22                         144   \n",
      "1                          24                         101   \n",
      "2                           9                         257   \n",
      "3                          11                          41   \n",
      "4                          20                         227   \n",
      "5                          11                          39   \n",
      "6                           5                         172   \n",
      "7                          17                           7   \n",
      "8                          12                          40   \n",
      "9                          14                         197   \n",
      "\n",
      "  :@computed_region_8hcu_yrd4 location.latitude location.longitude  \\\n",
      "0                           9      41.868165405       -87.62743954   \n",
      "1                           9      41.830859172      -87.614478749   \n",
      "2                          19      41.683578042      -87.685066062   \n",
      "3                          49      42.003500665      -87.673351733   \n",
      "4                          10      41.750378603      -87.600311872   \n",
      "5                          49      42.009201971      -87.660867106   \n",
      "6                          32      41.933219451      -87.676325969   \n",
      "7                          17      41.768213543      -87.673617146   \n",
      "8                          41      41.976182125      -87.876421145   \n",
      "9                           2      41.902670403      -87.629946882   \n",
      "\n",
      "                              location.human_address  \n",
      "0  {\"address\": \"\", \"city\": \"\", \"state\": \"\", \"zip\"...  \n",
      "1  {\"address\": \"\", \"city\": \"\", \"state\": \"\", \"zip\"...  \n",
      "2  {\"address\": \"\", \"city\": \"\", \"state\": \"\", \"zip\"...  \n",
      "3  {\"address\": \"\", \"city\": \"\", \"state\": \"\", \"zip\"...  \n",
      "4  {\"address\": \"\", \"city\": \"\", \"state\": \"\", \"zip\"...  \n",
      "5  {\"address\": \"\", \"city\": \"\", \"state\": \"\", \"zip\"...  \n",
      "6  {\"address\": \"\", \"city\": \"\", \"state\": \"\", \"zip\"...  \n",
      "7  {\"address\": \"\", \"city\": \"\", \"state\": \"\", \"zip\"...  \n",
      "8  {\"address\": \"\", \"city\": \"\", \"state\": \"\", \"zip\"...  \n",
      "9  {\"address\": \"\", \"city\": \"\", \"state\": \"\", \"zip\"...  \n",
      "\n",
      "[10 rows x 33 columns]\n"
     ]
    }
   ],
   "source": [
    "print(df_nested.head(10))"
   ]
  },
  {
   "cell_type": "markdown",
   "id": "f388f8d8",
   "metadata": {},
   "source": [
    "## ArcGIS "
   ]
  },
  {
   "cell_type": "code",
   "execution_count": null,
   "id": "8d70f5a0",
   "metadata": {},
   "outputs": [],
   "source": []
  },
  {
   "cell_type": "code",
   "execution_count": null,
   "id": "6fb98f35",
   "metadata": {},
   "outputs": [],
   "source": []
  },
  {
   "cell_type": "code",
   "execution_count": 30,
   "id": "fe8233a7",
   "metadata": {},
   "outputs": [],
   "source": [
    "from arcgis.gis import GIS\n",
    "from arcgis.features import GeoAccessor, GeoSeriesAccessor\n",
    "import pandas as pd\n",
    "import arcgis"
   ]
  },
  {
   "cell_type": "code",
   "execution_count": null,
   "id": "89b82431",
   "metadata": {},
   "outputs": [],
   "source": []
  },
  {
   "cell_type": "code",
   "execution_count": null,
   "id": "83fda195",
   "metadata": {},
   "outputs": [],
   "source": []
  },
  {
   "cell_type": "code",
   "execution_count": 35,
   "id": "9ee6d7fa",
   "metadata": {},
   "outputs": [],
   "source": [
    "# Load the dataset\n",
    "crime_data_path = 'chicago_crime.csv'\n",
    "crime_df = pd.read_csv(crime_data_path)\n",
    "\n",
    "# Display the first few rows to check the data\n",
    "# print(crime_df.head())\n",
    "\n",
    "# Ensure latitude and longitude are numeric\n",
    "crime_df['latitude'] = pd.to_numeric(crime_df['latitude'], errors='coerce')\n",
    "crime_df['longitude'] = pd.to_numeric(crime_df['longitude'], errors='coerce')\n",
    "\n",
    "# Drop rows with missing coordinates\n",
    "crime_df.dropna(subset=['latitude', 'longitude'], inplace=True)\n",
    "\n",
    "sdf = pd.DataFrame.spatial.from_xy(crime_df, 'longitude', 'latitude', sr=4326)\n"
   ]
  },
  {
   "cell_type": "code",
   "execution_count": 36,
   "id": "374bfdf3",
   "metadata": {},
   "outputs": [],
   "source": [
    "gis = GIS()"
   ]
  },
  {
   "cell_type": "code",
   "execution_count": 37,
   "id": "94fd28ba",
   "metadata": {},
   "outputs": [
    {
     "data": {
      "application/vnd.jupyter.widget-view+json": {
       "model_id": "561bb978699942f49f065eefcdfe253f",
       "version_major": 2,
       "version_minor": 0
      },
      "text/plain": [
       "MapView(layout=Layout(height='400px', width='100%'))"
      ]
     },
     "metadata": {},
     "output_type": "display_data"
    },
    {
     "data": {
      "text/html": [
       "<div class=\"map-static-img-preview-f262a434-6803-4ecd-8250-2a0134633b77\"><img src=\"\"></img></div>"
      ],
      "text/plain": [
       "<IPython.core.display.HTML object>"
      ]
     },
     "metadata": {},
     "output_type": "display_data"
    },
    {
     "data": {
      "text/html": [
       "<div class=\"map-html-embed-preview-f262a434-6803-4ecd-8250-2a0134633b77\"></div>"
      ],
      "text/plain": [
       "<IPython.core.display.HTML object>"
      ]
     },
     "metadata": {},
     "output_type": "display_data"
    }
   ],
   "source": [
    "chicago_map = gis.map('Chicago, IL', zoomlevel=12)\n",
    "\n",
    "# Plot the crime data\n",
    "for index, row in sdf.iterrows():\n",
    "    chicago_map.draw([row['latitude'], row['longitude']], \n",
    "                     popup={'title': 'Crime Type', 'content': row['primary_type']})\n",
    "\n",
    "chicago_map"
   ]
  },
  {
   "cell_type": "code",
   "execution_count": 38,
   "id": "e80978bd",
   "metadata": {},
   "outputs": [
    {
     "data": {
      "application/vnd.jupyter.widget-view+json": {
       "model_id": "561bb978699942f49f065eefcdfe253f",
       "version_major": 2,
       "version_minor": 0
      },
      "text/plain": [
       "MapView(layout=Layout(height='400px', width='100%'))"
      ]
     },
     "metadata": {},
     "output_type": "display_data"
    },
    {
     "data": {
      "text/html": [
       "<div class=\"map-static-img-preview-f262a434-6803-4ecd-8250-2a0134633b77\"><img src=\"\"></img></div>"
      ],
      "text/plain": [
       "<IPython.core.display.HTML object>"
      ]
     },
     "metadata": {},
     "output_type": "display_data"
    },
    {
     "data": {
      "text/html": [
       "<div class=\"map-html-embed-preview-f262a434-6803-4ecd-8250-2a0134633b77\"></div>"
      ],
      "text/plain": [
       "<IPython.core.display.HTML object>"
      ]
     },
     "metadata": {},
     "output_type": "display_data"
    }
   ],
   "source": [
    "from IPython.display import display\n",
    "\n",
    "# Assuming 'chicago_map' is your map variable\n",
    "display(chicago_map)"
   ]
  },
  {
   "cell_type": "code",
   "execution_count": null,
   "id": "e9c6e402",
   "metadata": {},
   "outputs": [],
   "source": []
  }
 ],
 "metadata": {
  "kernelspec": {
   "display_name": "Python 3 (ipykernel)",
   "language": "python",
   "name": "python3"
  },
  "language_info": {
   "codemirror_mode": {
    "name": "ipython",
    "version": 3
   },
   "file_extension": ".py",
   "mimetype": "text/x-python",
   "name": "python",
   "nbconvert_exporter": "python",
   "pygments_lexer": "ipython3",
   "version": "3.11.4"
  }
 },
 "nbformat": 4,
 "nbformat_minor": 5
}
